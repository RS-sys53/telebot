{
  "cells": [
    {
      "cell_type": "markdown",
      "metadata": {
        "id": "view-in-github",
        "colab_type": "text"
      },
      "source": [
        "<a href=\"https://colab.research.google.com/github/RS-sys53/telebot/blob/main/Copy_of_telebot_class.ipynb\" target=\"_parent\"><img src=\"https://colab.research.google.com/assets/colab-badge.svg\" alt=\"Open In Colab\"/></a>"
      ]
    },
    {
      "cell_type": "code",
      "execution_count": null,
      "metadata": {
        "colab": {
          "base_uri": "https://localhost:8080/"
        },
        "collapsed": true,
        "id": "ObDJ6zPvhhWw",
        "outputId": "aa977825-0b48-4a2f-fa1f-3909bfbf4f2f"
      },
      "outputs": [
        {
          "name": "stdout",
          "output_type": "stream",
          "text": [
            "Collecting pytelegrambotapi\n",
            "  Downloading pytelegrambotapi-4.22.1-py3-none-any.whl.metadata (48 kB)\n",
            "\u001b[?25l     \u001b[90m━━━━━━━━━━━━━━━━━━━━━━━━━━━━━━━━━━━━━━━━\u001b[0m \u001b[32m0.0/48.2 kB\u001b[0m \u001b[31m?\u001b[0m eta \u001b[36m-:--:--\u001b[0m\r\u001b[2K     \u001b[90m━━━━━━━━━━━━━━━━━━━━━━━━━━━━━━━━━━━━━━━━\u001b[0m \u001b[32m48.2/48.2 kB\u001b[0m \u001b[31m1.7 MB/s\u001b[0m eta \u001b[36m0:00:00\u001b[0m\n",
            "\u001b[?25hRequirement already satisfied: requests in /usr/local/lib/python3.10/dist-packages (from pytelegrambotapi) (2.32.3)\n",
            "Requirement already satisfied: charset-normalizer<4,>=2 in /usr/local/lib/python3.10/dist-packages (from requests->pytelegrambotapi) (3.3.2)\n",
            "Requirement already satisfied: idna<4,>=2.5 in /usr/local/lib/python3.10/dist-packages (from requests->pytelegrambotapi) (3.7)\n",
            "Requirement already satisfied: urllib3<3,>=1.21.1 in /usr/local/lib/python3.10/dist-packages (from requests->pytelegrambotapi) (2.0.7)\n",
            "Requirement already satisfied: certifi>=2017.4.17 in /usr/local/lib/python3.10/dist-packages (from requests->pytelegrambotapi) (2024.7.4)\n",
            "Downloading pytelegrambotapi-4.22.1-py3-none-any.whl (261 kB)\n",
            "\u001b[2K   \u001b[90m━━━━━━━━━━━━━━━━━━━━━━━━━━━━━━━━━━━━━━━━\u001b[0m \u001b[32m261.0/261.0 kB\u001b[0m \u001b[31m6.2 MB/s\u001b[0m eta \u001b[36m0:00:00\u001b[0m\n",
            "\u001b[?25hInstalling collected packages: pytelegrambotapi\n",
            "Successfully installed pytelegrambotapi-4.22.1\n"
          ]
        }
      ],
      "source": [
        "pip install pytelegrambotapi"
      ]
    },
    {
      "cell_type": "markdown",
      "metadata": {
        "id": "PtdMcJ73nh6C"
      },
      "source": [
        "#bot API Token"
      ]
    },
    {
      "cell_type": "code",
      "execution_count": null,
      "metadata": {
        "id": "FMQx048PnUjM"
      },
      "outputs": [],
      "source": [
        "API_token = \"7427561635:AAFSFGlF1hPM7KFa2tI37ag8cW7jXV7DNIY\""
      ]
    },
    {
      "cell_type": "markdown",
      "metadata": {
        "id": "brYJP07wj7nr"
      },
      "source": [
        "# group managing Bot\n",
        "#main features :\n",
        "pin, ban, promote, demote, welcom message\n",
        "\n",
        "#basic commands"
      ]
    },
    {
      "cell_type": "code",
      "execution_count": null,
      "metadata": {
        "colab": {
          "base_uri": "https://localhost:8080/",
          "height": 810
        },
        "id": "VT6yD34bY6qL",
        "outputId": "5351a893-e24f-49bc-afc2-a0576cc3c366"
      },
      "outputs": [
        {
          "ename": "ModuleNotFoundError",
          "evalue": "No module named 'telebot'",
          "output_type": "error",
          "traceback": [
            "\u001b[0;31m---------------------------------------------------------------------------\u001b[0m",
            "\u001b[0;31mModuleNotFoundError\u001b[0m                       Traceback (most recent call last)",
            "\u001b[0;32m<ipython-input-1-0f7d359d4228>\u001b[0m in \u001b[0;36m<cell line: 1>\u001b[0;34m()\u001b[0m\n\u001b[0;32m----> 1\u001b[0;31m \u001b[0;32mimport\u001b[0m \u001b[0mtelebot\u001b[0m\u001b[0;34m\u001b[0m\u001b[0;34m\u001b[0m\u001b[0m\n\u001b[0m\u001b[1;32m      2\u001b[0m \u001b[0;32mfrom\u001b[0m \u001b[0mtelebot\u001b[0m \u001b[0;32mimport\u001b[0m \u001b[0mTeleBot\u001b[0m\u001b[0;34m\u001b[0m\u001b[0;34m\u001b[0m\u001b[0m\n\u001b[1;32m      3\u001b[0m \u001b[0;34m\u001b[0m\u001b[0m\n\u001b[1;32m      4\u001b[0m \u001b[0;34m\u001b[0m\u001b[0m\n\u001b[1;32m      5\u001b[0m \u001b[0;31m#creating the bot\u001b[0m\u001b[0;34m\u001b[0m\u001b[0;34m\u001b[0m\u001b[0m\n",
            "\u001b[0;31mModuleNotFoundError\u001b[0m: No module named 'telebot'",
            "",
            "\u001b[0;31m---------------------------------------------------------------------------\u001b[0;32m\nNOTE: If your import is failing due to a missing package, you can\nmanually install dependencies using either !pip or !apt.\n\nTo view examples of installing some common dependencies, click the\n\"Open Examples\" button below.\n\u001b[0;31m---------------------------------------------------------------------------\u001b[0m\n"
          ]
        }
      ],
      "source": [
        "import telebot\n",
        "from telebot import TeleBot\n",
        "\n",
        "\n",
        "#creating the bot\n",
        "bot = telebot.TeleBot(API_token)\n",
        "\n",
        "#creating the new user welcome message\n",
        "\n",
        "@bot.message_handler(content_types = \"new_members\")\n",
        "def welcome_message (message):\n",
        "    bot.reply_to(message, f\"welcome the group {message.from_user.first_name} :) 🎉\" )\n",
        "\n",
        "\n",
        "\n",
        "         # validation user if administrator\n",
        "\n",
        "     # administration\n",
        "\n",
        "def is_admin (chat_id, user_id):\n",
        "    admins = bot.get_chat_administrators (chat_id)\n",
        "    for admin in admins:\n",
        "        if admin.user.id == user_id:\n",
        "            return True\n",
        "    return False\n",
        "\n",
        "           #Pin messages\n",
        "\n",
        "@bot.message_handler(func = lambda message : message.text == \"pin\")\n",
        "def pin_message (message) :\n",
        "    chat_id = message.chat.id\n",
        "    user_id = message.from_user.id\n",
        "\n",
        "    if is_admin (chat_id, user_id) :\n",
        "        if message.reply_to_message :\n",
        "\n",
        "            bot.pin_chat_message(chat_id, message.reply_to_message.id)\n",
        "            bot.reply_to (message.reply_to_message, \" Pinned Successfully 🎯\")\n",
        "        else:\n",
        "            bot.reply_to (message, \"choose a message to pin ⚡\")\n",
        "    else :\n",
        "         bot.reply_to (message, \"only admins can pin messages ✨\")\n",
        "\n",
        "\n",
        "           #Ban user\n",
        "\n",
        "@bot.message_handler(func=lambda message : message.text == \"ban\")\n",
        "def Ban_user (message):\n",
        "\n",
        "    chat_id = message.chat.id\n",
        "    user_id = message.from_user.id\n",
        "    if is_admin (chat_id,user_id):\n",
        "        if message.reply_to_message:\n",
        "            Banned_user_id =message.reply_to_message.from_user.id\n",
        "            bot.ban_chat_member(chat_id,Banned_user_id)\n",
        "            Banned_user_name = message.reply_to_message.from_user.first_name\n",
        "            bot.send_message (chat_id,f\"{Banned_user_name} [{Banned_user_id}] is Banned\" )\n",
        "\n",
        "\n",
        "          #promoting users\n",
        "\n",
        "           #adding admin\n",
        "\n",
        "@bot.message_handler(func=lambda message : message.text == \"admin\" )\n",
        "def promote_users (message):\n",
        "  chat_id = message.chat.id\n",
        "  user_id = message.from_user.id\n",
        "  if is_admin (chat_id,user_id):\n",
        "    if message.reply_to_message:\n",
        "      user_id = message.reply_to_message.from_user.id\n",
        "      bot.promote_chat_member(chat_id , user_id )\n",
        "      bot.reply_to(message.reply_to_message , \"you are promoted to administrator\")\n",
        "\n",
        "\n",
        "          #demoteing users\n",
        "\n",
        "           #remove administrator\n",
        "\n",
        "@bot.message_handler(func=lambda message : message.text == \"member\")\n",
        "def demote_user (message):\n",
        "    chat_id = message.chat.id\n",
        "    user_id = message.from_user.id\n",
        "    if is_admin (chat_id,user_id):\n",
        "        if message.reply_to_message:\n",
        "            user_demote = message.reply_to_message.from_user.id\n",
        "            bot.promote_user(chat_id , user_demote)\n",
        "            bot.reply_to (message.reply_to_message , \"you are demoted to special member \")\n",
        "\n",
        "    #  \"\"\"end of administration section\"\"\"\n",
        "\n",
        "bot.polling ()"
      ]
    },
    {
      "cell_type": "markdown",
      "metadata": {
        "id": "4MAZkGjKozgH"
      },
      "source": [
        "# bot setting menu\n",
        "menu testing"
      ]
    },
    {
      "cell_type": "code",
      "execution_count": null,
      "metadata": {
        "collapsed": true,
        "id": "nEf65azr9jKA"
      },
      "outputs": [],
      "source": [
        "\n",
        "import telebot\n",
        "from telebot import TeleBot\n",
        "from telebot.types import InlineKeyboardButton ,InlineKeyboardMarkup\n",
        "\n",
        "bot = telebot.TeleBot(API_token)\n",
        "\n",
        "\n",
        "\n",
        "\n",
        "# defining main menu\n",
        "def main_menu ():\n",
        "    markup = InlineKeyboardMarkup (row_width=2)\n",
        "    settings = InlineKeyboardButton (text=\"setting 🎮 \" ,callback_data = \"setting\")\n",
        "    markup.add(settings)\n",
        "    return markup\n",
        "#defining settings menu\n",
        "def settings ():\n",
        "    markup = InlineKeyboardMarkup(row_width = 2)\n",
        "    guide = InlineKeyboardButton (\"📖 guide\",callback_data = \"guide\")\n",
        "    media = InlineKeyboardButton(\"media\",callback_data=\"media\")\n",
        "    return_main =InlineKeyboardButton(\"back\",callback_data=\"return_main\")\n",
        "    markup.add(guide,media,return_main)\n",
        "    return markup\n",
        "#defining guide menu\n",
        "def guide ():\n",
        "    markup = InlineKeyboardMarkup(row_width=2)\n",
        "    ban_button = InlineKeyboardButton(\"ban\",callback_data=\"ban\")\n",
        "    silence_button = InlineKeyboardButton(\"silence\" ,callback_data = \"silence\")\n",
        "    promote_button = InlineKeyboardButton(\"promotion\",callback_data=\"promotion\")\n",
        "    back = InlineKeyboardButton(\"↪️ back\",callback_data=\"return_settings\")\n",
        "    markup.add(ban_button,silence_button,promote_button,back)\n",
        "    return markup\n",
        "\n",
        "#defining media menu\n",
        "def media_menu():\n",
        "\n",
        "    markup = InlineKeyboardMarkup(row_width=3)\n",
        "    photo = InlineKeyboardButton (\"photo \", callback_data= \"photo_change_state\")\n",
        "    video = InlineKeyboardButton (\"video \", callback_data= \"video_change_state\")\n",
        "    GIFs = InlineKeyboardButton (\"GIFs \", callback_data= \"gif_change_state\")\n",
        "    sticker = InlineKeyboardButton (\"Sticker \", callback_data= \"sticker_change_state\")\n",
        "    voice = InlineKeyboardButton (\"Voice \", callback_data= \"voice_change_state\")\n",
        "    audio = InlineKeyboardButton (\"Audio\", callback_data= \"audio_change_state\")\n",
        "    location = InlineKeyboardButton (\"Location\", callback_data= \"location_change_state\")\n",
        "    poll =InlineKeyboardButton (\"Poll\", callback_data= \"poll_change_state\")\n",
        "    return_settings= InlineKeyboardButton (\"↪️\", callback_data= \"return_settings\")\n",
        "    markup.add (photo, video, GIFs)\n",
        "    markup.add (audio, voice, sticker)\n",
        "    markup.add (location,poll, return_settings)\n",
        "    return markup\n",
        "\n",
        "\n",
        "#start the bot\n",
        "@bot.message_handler(commands = [\"start\",\"help\"])\n",
        "def handling_first_arive(message):\n",
        "    bot.send_message(message.chat.id ,\"choose from the main menu\",reply_markup = main_menu() )\n",
        "\n",
        "#callback section\n",
        "@bot.callback_query_handler(func=lambda call: True)\n",
        "def callback_query (call):\n",
        "     #main menu\n",
        "    if call.data == \"setting\":\n",
        "        bot.edit_message_text(chat_id=call.message.chat.id , message_id = call.message.message_id ,text =\"setting menu\",reply_markup = settings())\n",
        "     #setting menu\n",
        "    elif call.data == \"guide\":\n",
        "        bot.edit_message_text(chat_id=call.message.chat.id , message_id = call.message.message_id ,text = \"📖 guideline menu\",reply_markup = guide())\n",
        "    elif call.data == \"return_main\":\n",
        "        bot.edit_message_text(chat_id=call.message.chat.id ,message_id = call.message.message_id ,text =\"main menu\", reply_markup=main_menu() )\n",
        "    elif call.data == \"return_settings\":\n",
        "        bot.edit_message_text(chat_id=call.message.chat.id ,message_id = call.message.message_id ,text =\"settings menu\", reply_markup= settings () )\n",
        "\n",
        "    elif call.data == \"media\":\n",
        "        bot.edit_message_text(chat_id=call.message.chat.id ,message_id = call.message.message_id ,text =\" media menu\", reply_markup=media_menu() )\n",
        "\n",
        "    elif call.data == \"photos_change_state\" :\n",
        "        bot.edit_message_text(chat_id=call.message.chat.id, message_id =call.message.message_id,text= \"media\",reply_markup= media_menu() )\n",
        "\n",
        "bot.polling()"
      ]
    },
    {
      "cell_type": "code",
      "execution_count": null,
      "metadata": {
        "id": "dEvkzFDY49WM"
      },
      "outputs": [],
      "source": []
    },
    {
      "cell_type": "markdown",
      "metadata": {
        "id": "Pq1yjBA-pZxN"
      },
      "source": [
        "# New Section"
      ]
    },
    {
      "cell_type": "markdown",
      "metadata": {
        "id": "1SYJgmb1bdQn"
      },
      "source": [
        "# changing bool state function"
      ]
    },
    {
      "cell_type": "code",
      "execution_count": null,
      "metadata": {
        "id": "--ToGh4T5FHw"
      },
      "outputs": [],
      "source": [
        "media={\"photos\" :True}"
      ]
    },
    {
      "cell_type": "code",
      "execution_count": null,
      "metadata": {
        "id": "wUGHTEcGbszO"
      },
      "outputs": [],
      "source": [
        "def change_state(section, call_data) :\n",
        "    if section[call_data] == True :\n",
        "        section[call_data] = False\n",
        "\n",
        "        return False\n",
        "    elif section[call_data] == False :\n",
        "        section[call_data] = True\n",
        "\n",
        "        return True"
      ]
    },
    {
      "cell_type": "code",
      "execution_count": null,
      "metadata": {
        "colab": {
          "base_uri": "https://localhost:8080/"
        },
        "id": "ua5zwQ_9k4Cu",
        "outputId": "c77d8f42-5e7a-4ded-ee2e-fbc0ca8cca73"
      },
      "outputs": [
        {
          "data": {
            "text/plain": [
              "False"
            ]
          },
          "execution_count": 92,
          "metadata": {},
          "output_type": "execute_result"
        }
      ],
      "source": [
        "change_state(media, \"photos\" )"
      ]
    },
    {
      "cell_type": "code",
      "execution_count": null,
      "metadata": {
        "colab": {
          "background_save": true
        },
        "id": "VARjrL0L1IDQ"
      },
      "outputs": [],
      "source": [
        "def media_state_emoji (section, call_back ):\n",
        "    if section[call_back] == True:\n",
        "        emoji = \"✅\"\n",
        "        return emoji\n",
        "    elif section[call_back]  == False:\n",
        "        emoji = \"❌\"\n",
        "        return emoji"
      ]
    },
    {
      "cell_type": "code",
      "execution_count": null,
      "metadata": {
        "colab": {
          "base_uri": "https://localhost:8080/",
          "height": 35
        },
        "id": "WL4-kv4l5AzA",
        "outputId": "d12c21f7-cab4-4044-e128-db86e4605f8f"
      },
      "outputs": [
        {
          "data": {
            "application/vnd.google.colaboratory.intrinsic+json": {
              "type": "string"
            },
            "text/plain": [
              "'❌'"
            ]
          },
          "execution_count": 93,
          "metadata": {},
          "output_type": "execute_result"
        }
      ],
      "source": [
        "media_state_emoji (media, \"photos\" )"
      ]
    }
  ],
  "metadata": {
    "colab": {
      "collapsed_sections": [
        "brYJP07wj7nr",
        "1SYJgmb1bdQn"
      ],
      "provenance": [],
      "authorship_tag": "ABX9TyNezKniL7GccJfl2Y0E2ywD",
      "include_colab_link": true
    },
    "kernelspec": {
      "display_name": "Python 3",
      "name": "python3"
    },
    "language_info": {
      "name": "python"
    }
  },
  "nbformat": 4,
  "nbformat_minor": 0
}